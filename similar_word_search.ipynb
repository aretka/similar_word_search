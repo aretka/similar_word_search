{
 "cells": [
  {
   "cell_type": "code",
   "execution_count": 5,
   "id": "abadfff3",
   "metadata": {},
   "outputs": [],
   "source": [
    "from scipy import spatial\n",
    "import matplotlib.pyplot as plt\n",
    "from IPython.display import Markdown, display\n",
    "import spacy\n",
    "nlp = spacy.load(\"en_core_web_md\")\n",
    "\n",
    "# word similarity is calculated using cosine similarity\n",
    "cosine_similarity = lambda x, y: 1 - spatial.distance.cosine(x, y)\n",
    "\n",
    "def find_nearest_neighbours(main_word):\n",
    "    main_word_vector = nlp.vocab[main_word].vector\n",
    "    computed_similarities = []\n",
    "    for word in nlp.vocab:\n",
    "        if word.has_vector:\n",
    "            similarity = cosine_similarity(main_word_vector, word.vector)\n",
    "            computed_similarities.append((word, similarity))\n",
    "\n",
    "    # Sort by highest similarity values\n",
    "    return sorted(computed_similarities, key=lambda item: -item[1])"
   ]
  },
  {
   "cell_type": "code",
   "execution_count": 6,
   "id": "a284811b",
   "metadata": {},
   "outputs": [],
   "source": [
    "# Horizontal bar chart plot function\n",
    "def plot_neighbours(neighbours):\n",
    "    values = [w[1] for w in neighbours[1:6]]\n",
    "    words = [w[0].text for w in neighbours[1:6]]\n",
    "    plt.barh(words, values)\n",
    "    plt.ylabel(\"Neighbours\")\n",
    "    plt.xlabel(\"Cosine similarity\")\n",
    "    plt.title(\"Nearest neighbours of \" + neighbours[0][0].text)\n",
    "    plt.show()"
   ]
  },
  {
   "cell_type": "code",
   "execution_count": 7,
   "id": "11add846",
   "metadata": {},
   "outputs": [],
   "source": [
    "# Display table with similarity values\n",
    "def display_table(words_list):\n",
    "    display(Markdown(f'<table><tr><th></th><th>{words_list[1][0].text}</th><th>{words_list[2][0].text}</th><th>{words_list[3][0].text}</th><th>{words_list[4][0].text}</th><th>{words_list[5][0].text}</th></tr>\\\n",
    "    <tr><td>Similarity</td><td>{words_list[1][1]:{.4}}</td><td>{words_list[2][1]:{.4}}</td><td>{words_list[3][1]:{.4}}</td><td>{words_list[4][1]:{.4}}</td><td>{words_list[5][1]:{.4}}</td></tr>'))"
   ]
  },
  {
   "cell_type": "code",
   "execution_count": 8,
   "id": "8c0006f6",
   "metadata": {},
   "outputs": [
    {
     "data": {
      "image/png": "[encoded data removed]",
      "text/plain": [
       "<Figure size 432x288 with 1 Axes>"
      ]
     },
     "metadata": {
      "needs_background": "light"
     },
     "output_type": "display_data"
    },
    {
     "data": {
      "text/markdown": [
       "<table><tr><th></th><th>Wash</th><th>Fla</th><th>or</th><th>I</th><th>i</th></tr>    <tr><td>Similarity</td><td>0.3968</td><td>0.3653</td><td>0.3198</td><td>0.3033</td><td>0.3033</td></tr>"
      ],
      "text/plain": [
       "<IPython.core.display.Markdown object>"
      ]
     },
     "metadata": {},
     "output_type": "display_data"
    }
   ],
   "source": [
    "words_list = find_nearest_neighbours('orange')\n",
    "plot_neighbours(words_list)\n",
    "display_table(words_list)"
   ]
  }
 ],
 "metadata": {
  "kernelspec": {
   "display_name": "Python 3 (ipykernel)",
   "language": "python",
   "name": "python3"
  },
  "language_info": {
   "codemirror_mode": {
    "name": "ipython",
    "version": 3
   },
   "file_extension": ".py",
   "mimetype": "text/x-python",
   "name": "python",
   "nbconvert_exporter": "python",
   "pygments_lexer": "ipython3",
   "version": "3.9.12"
  }
 },
 "nbformat": 4,
 "nbformat_minor": 5
}

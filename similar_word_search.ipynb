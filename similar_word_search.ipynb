{
 "cells": [
  {
   "cell_type": "code",
   "execution_count": 6,
   "id": "abadfff3",
   "metadata": {},
   "outputs": [],
   "source": [
    "from scipy import spatial\n",
    "import matplotlib.pyplot as plt\n",
    "from IPython.display import Markdown, display\n",
    "import spacy\n",
    "import gensim.downloader as api\n",
    "word_vectors = api.load(\"glove-wiki-gigaword-100\")  # load pre-trained word-vectors from gensim-data"
   ]
  },
  {
   "cell_type": "code",
   "execution_count": 7,
   "id": "a284811b",
   "metadata": {},
   "outputs": [],
   "source": [
    "# Horizontal bar chart plot function\n",
    "def plot_neighbours(neighbours, main_word):\n",
    "    values = [w[1] for w in neighbours[:5]]\n",
    "    words = [w[0] for w in neighbours[:5]]\n",
    "    plt.barh(words, values)\n",
    "    plt.ylabel(\"Neighbours\")\n",
    "    plt.xlabel(\"Cosine similarity\")\n",
    "    plt.title(\"Nearest neighbours of \" + main_word)\n",
    "    plt.show()"
   ]
  },
  {
   "cell_type": "code",
   "execution_count": 11,
   "id": "11add846",
   "metadata": {},
   "outputs": [],
   "source": [
    "# Display table with similarity values\n",
    "def display_table(words_list):\n",
    "    display(Markdown(f'<table><tr><th></th><th>{words_list[0][0]}</th><th>{words_list[1][0]}</th><th>{words_list[2][0]}</th><th>{words_list[3][0]}</th><th>{words_list[4][0]}</th></tr>\\\n",
    "    <tr><td>Similarity</td><td>{words_list[0][1]:{.4}}</td><td>{words_list[1][1]:{.4}}</td><td>{words_list[2][1]:{.4}}</td><td>{words_list[3][1]:{.4}}</td><td>{words_list[4][1]:{.4}}</td></tr>'))"
   ]
  },
  {
   "cell_type": "code",
   "execution_count": 14,
   "id": "5457e022",
   "metadata": {},
   "outputs": [
    {
     "data": {
      "image/png": "[encoded data removed]",
      "text/plain": [
       "<Figure size 432x288 with 1 Axes>"
      ]
     },
     "metadata": {
      "needs_background": "light"
     },
     "output_type": "display_data"
    },
    {
     "data": {
      "text/markdown": [
       "<table><tr><th></th><th>dog</th><th>rabbit</th><th>cats</th><th>monkey</th><th>pet</th></tr>    <tr><td>Similarity</td><td>0.8798</td><td>0.7424</td><td>0.7323</td><td>0.7289</td><td>0.719</td></tr>"
      ],
      "text/plain": [
       "<IPython.core.display.Markdown object>"
      ]
     },
     "metadata": {},
     "output_type": "display_data"
    }
   ],
   "source": [
    "main_word = \"cat\"\n",
    "similar_words = word_vectors.similar_by_word(main_word)\n",
    "plot_neighbours(similar_words, main_word)\n",
    "display_table(similar_words)"
   ]
  }
 ],
 "metadata": {
  "kernelspec": {
   "display_name": "Python 3 (ipykernel)",
   "language": "python",
   "name": "python3"
  },
  "language_info": {
   "codemirror_mode": {
    "name": "ipython",
    "version": 3
   },
   "file_extension": ".py",
   "mimetype": "text/x-python",
   "name": "python",
   "nbconvert_exporter": "python",
   "pygments_lexer": "ipython3",
   "version": "3.9.12"
  }
 },
 "nbformat": 4,
 "nbformat_minor": 5
}
